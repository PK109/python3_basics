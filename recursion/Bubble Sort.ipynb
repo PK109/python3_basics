{
 "cells": [
  {
   "cell_type": "code",
   "execution_count": 1,
   "metadata": {},
   "outputs": [],
   "source": [
    "import random"
   ]
  },
  {
   "cell_type": "code",
   "execution_count": 11,
   "metadata": {},
   "outputs": [],
   "source": [
    "def bubble_sort(lst):\n",
    "    switch_cnt = True\n",
    "    rounds_cnt = 1\n",
    "    while switch_cnt:\n",
    "        switch_cnt = False\n",
    "        for i in range(0,len(lst)-rounds_cnt):\n",
    "            if lst[i]>lst[i+1]:\n",
    "                switch_cnt = True\n",
    "                temp = lst[i]\n",
    "                lst[i] = lst[i+1]\n",
    "                lst[i+1] = temp\n",
    "        print(\"Round: \"+ str(rounds_cnt), *lst, sep=', ')\n",
    "        rounds_cnt += 1\n",
    "    return lst"
   ]
  },
  {
   "cell_type": "code",
   "execution_count": 12,
   "metadata": {},
   "outputs": [
    {
     "name": "stdout",
     "output_type": "stream",
     "text": [
      "please input length of integer number array\n",
      ">10\n",
      "Origin: \n",
      "62, 65, 3, 82, 29, 70, 46, 11, 86, 51\n",
      "Round: 1, 62, 3, 65, 29, 70, 46, 11, 82, 51, 86\n",
      "Round: 2, 3, 62, 29, 65, 46, 11, 70, 51, 82, 86\n",
      "Round: 3, 3, 29, 62, 46, 11, 65, 51, 70, 82, 86\n",
      "Round: 4, 3, 29, 46, 11, 62, 51, 65, 70, 82, 86\n",
      "Round: 5, 3, 29, 11, 46, 51, 62, 65, 70, 82, 86\n",
      "Round: 6, 3, 11, 29, 46, 51, 62, 65, 70, 82, 86\n",
      "Round: 7, 3, 11, 29, 46, 51, 62, 65, 70, 82, 86\n",
      "Sorted: \n",
      "3, 11, 29, 46, 51, 62, 65, 70, 82, 86\n"
     ]
    }
   ],
   "source": [
    "print (\"please input length of integer number array\")\n",
    "lst = []\n",
    "\n",
    "try:\n",
    "    n = int(input(\">\"))\n",
    "except:\n",
    "    print(\"Error\")\n",
    "\n",
    "for i in range(1,n+1):\n",
    "    lst.append(random.randint(1, n**2))\n",
    "#lst.extend([int(i) for i in n.split()])\n",
    "print(\"Origin: \")\n",
    "print(*lst,sep= \", \")\n",
    "sorted_list = bubble_sort(lst)\n",
    "print (\"Sorted: \")\n",
    "print(*sorted_list, sep= \", \")"
   ]
  },
  {
   "cell_type": "code",
   "execution_count": null,
   "metadata": {},
   "outputs": [],
   "source": []
  }
 ],
 "metadata": {
  "kernelspec": {
   "display_name": "Python 3",
   "language": "python",
   "name": "python3"
  },
  "language_info": {
   "codemirror_mode": {
    "name": "ipython",
    "version": 3
   },
   "file_extension": ".py",
   "mimetype": "text/x-python",
   "name": "python",
   "nbconvert_exporter": "python",
   "pygments_lexer": "ipython3",
   "version": "3.7.1"
  }
 },
 "nbformat": 4,
 "nbformat_minor": 2
}
