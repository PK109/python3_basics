{
 "cells": [
  {
   "cell_type": "code",
   "execution_count": 25,
   "metadata": {},
   "outputs": [],
   "source": [
    "def display (row1):\n",
    "    strbase = \"| \"\n",
    "    border = \"-------------\"\n",
    "    print (border)\n",
    "    strrow = strbase\n",
    "    for index,sign in enumerate(row1):\n",
    "        if index == 0: continue\n",
    "\n",
    "        strrow += str(sign) + \" | \"\n",
    "        if index % 3 == 0:\n",
    "            print (strrow)\n",
    "            print (border)\n",
    "            strrow = strbase"
   ]
  },
  {
   "cell_type": "code",
   "execution_count": 31,
   "metadata": {},
   "outputs": [],
   "source": [
    "r1 = list(range(0,10))"
   ]
  },
  {
   "cell_type": "code",
   "execution_count": 32,
   "metadata": {},
   "outputs": [
    {
     "name": "stdout",
     "output_type": "stream",
     "text": [
      "-------------\n",
      "| 1 | 2 | 3 | \n",
      "-------------\n",
      "| X | 5 | 6 | \n",
      "-------------\n",
      "| 7 | 8 | 9 | \n",
      "-------------\n"
     ]
    }
   ],
   "source": [
    "r1[4]=\"X\"\n",
    "display(r1)"
   ]
  },
  {
   "cell_type": "code",
   "execution_count": null,
   "metadata": {},
   "outputs": [],
   "source": [
    "def user_choice():\n",
    "    \n",
    "    #variables\n",
    "    choice = \"WRONG\"\n",
    "    acceptable_range = range(0,10)\n",
    "    \n",
    "    \n",
    "    while choice not in acceptable_range:\n",
    "        choice = input(\"Please enter a number:\")\n",
    "        \n",
    "        if not choice.isdigit():\n",
    "            print(\"This is not a digit.\")\n",
    "        else:    \n",
    "            if int(choice) not in acceptable_range:\n",
    "                print(\"Value is outside of the range\")\n",
    "    \n",
    "    return int(choice)\n",
    "    "
   ]
  },
  {
   "cell_type": "code",
   "execution_count": null,
   "metadata": {},
   "outputs": [],
   "source": [
    "user_choice()"
   ]
  },
  {
   "cell_type": "code",
   "execution_count": null,
   "metadata": {},
   "outputs": [],
   "source": []
  }
 ],
 "metadata": {
  "kernelspec": {
   "display_name": "Python 3",
   "language": "python",
   "name": "python3"
  },
  "language_info": {
   "codemirror_mode": {
    "name": "ipython",
    "version": 3
   },
   "file_extension": ".py",
   "mimetype": "text/x-python",
   "name": "python",
   "nbconvert_exporter": "python",
   "pygments_lexer": "ipython3",
   "version": "3.7.1"
  }
 },
 "nbformat": 4,
 "nbformat_minor": 2
}
